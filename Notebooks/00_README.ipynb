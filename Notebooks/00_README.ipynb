{
 "cells": [
  {
   "cell_type": "markdown",
   "id": "caa08e9d-2d60-4538-acdb-5b0d8adf1e58",
   "metadata": {},
   "source": [
    "### This notebook is providing a general overview on the activities performed"
   ]
  },
  {
   "cell_type": "markdown",
   "id": "ad0e39fb-d947-4383-a1ba-ebdbd4033e65",
   "metadata": {},
   "source": [
    "### Data and main goal of the analysis"
   ]
  },
  {
   "cell_type": "markdown",
   "id": "fb3cfebb-2745-451a-adc1-2f1b224ce097",
   "metadata": {},
   "source": [
    "Following <b>dataset</b> was used for the analyis:\n",
    "https://www.kaggle.com/datasets/floser/french-motor-claims-datasets-fremtpl2freq\n",
    "\n",
    "This dataset is containing the losses from a French motor-third-party-liability portfolio.\n",
    "    \n",
    "The <b>main goal of the analysis </b> was to:\n",
    "- find the best model to describe the <b>frequency of claims occurance</b> i.e. the probability for an individual policy whether it occured a claim in the observed time frame or not.\n",
    "- i.e. the problem was framed as a <b>binary classification</b>"
   ]
  },
  {
   "cell_type": "markdown",
   "id": "7f727618-1534-46db-9e89-748d94c7e898",
   "metadata": {},
   "source": [
    "### 01) 1st data analysis"
   ]
  },
  {
   "cell_type": "markdown",
   "id": "c3e26b53-42b7-40a2-a68c-ebc141570fe6",
   "metadata": {},
   "source": [
    "<b>Main Findings and Observations:</b>\n",
    "- Data quality is good:\n",
    "    - policy IDs are just appearing ones in the data set\n",
    "    - there are no missing values\n",
    "    - there are no duplicate records<br><br>\n",
    "    \n",
    "- Findings and Decisions:\n",
    "    - ClaimNb: there were some records for which the number of Claims observed is >>5,\n",
    "    - according to my experience that seems a bit unrealistic, but as there is not other possibility to assess the quality now and the nr. of such records is small, the data are kept\n",
    "    - Also for exposure there were some records where expsoure is > 1, i.e. more than 1 year\n",
    "    - again as the nr of such records is small, data are kept"
   ]
  },
  {
   "cell_type": "markdown",
   "id": "98b6ec00-dbf8-4fa1-80f7-f08f4bc5ed5e",
   "metadata": {
    "tags": []
   },
   "source": [
    "### 02) Visualiation and describtive Analysis"
   ]
  },
  {
   "cell_type": "markdown",
   "id": "53f97c1c-8e3c-4d2c-9972-c80b6c4edf7a",
   "metadata": {
    "tags": []
   },
   "source": [
    "<b>Main Findings and Observations:</b>\n",
    "- Univariate analysis of numerical data:\n",
    "    - most of the Exposure is 1 -> full 1y history of the policy\n",
    "    - VehAge, there quite a few outliers wiht old ages -> oldtimers?\n",
    "    - Bonus Malus: most of the portfolio is in highest Bonus Class<br><br>\n",
    "    \n",
    "- Bivariate analysis of numerical data:\n",
    "    - no clear dependencies are visible<br><br>\n",
    "    \n",
    "- Correlation analyiss of numerical data:\n",
    "    - corelation analysis is basically confirming, that there are only weak linear dependencies in the data<br><br>\n",
    "    \n",
    "\n",
    "- Univariate analysis of claims occurance frequency:\n",
    "    - <b>overall the frequency of a claim occuring is 9,5%</b>\n",
    "    - area: worsening frequency from A-> F -> this has an ordinal meaning, so probably area defines some risk scoring \n",
    "    - VehPower: moderate volatility, 4 classes leading from volume point of view\n",
    "    - VehAge: high frequency at age 0 -> volume is lower here, but this seems to be an issue here\n",
    "    - Driver Age: young drivers causing more claims, biggest part of portfolio ist between 30 and 60ys\n",
    "    - bonus/Malus: positive correlation visible -> higher malus class -> higher frequency\n",
    "    - Brand: B12: outstandingly worse segment with high volume also\n",
    "    - Density: some classes with outstandingly high frequency but partially driven by low exposure\n",
    "    - Regions: quite volatile with Region 24 showing by far the highest volume in the portfolio"
   ]
  },
  {
   "cell_type": "markdown",
   "id": "27c7b920-9b5c-422b-90bd-49f54c0f5c04",
   "metadata": {},
   "source": [
    "### 03) Feature Preparation"
   ]
  },
  {
   "cell_type": "markdown",
   "id": "d5dff80e-9d1a-4d00-94c8-7d3b685f3f87",
   "metadata": {},
   "source": [
    "- Main Activities:\n",
    "    - an 80/20 train/ test split is applied\n",
    "    - as \"Area\" is expected to present some king of risk scoring it is encoded ordinally\n",
    "    - numerical features are scaled 2 ways: using MinMax and StandardScaler()\n",
    "    - categorical features are one-hot encoded"
   ]
  },
  {
   "cell_type": "markdown",
   "id": "ca9f6bd9-58c6-4076-80dc-4a8baf7713d9",
   "metadata": {},
   "source": [
    "### 04) Modelling and final Conclusion"
   ]
  },
  {
   "cell_type": "markdown",
   "id": "0df299ac-de50-476c-a41f-f64152f5cf36",
   "metadata": {},
   "source": [
    "- Main Activities:\n",
    " \n",
    "    - Besides a random baseline model, the following models are trained and optimised:\n",
    "        - LogLogistic Regression\n",
    "        - Randrom Forest Classifier\n",
    "        - AdaBoost Classifier\n",
    "        - Desision Tree Model using cost complexity pruning<br><br>\n",
    "    - Data used: the StadardScaled version of the prepared numerical features\n",
    "    - Target Metric: AUC<br><br>\n",
    "- Final Conclusions:\n",
    "    - The random forest with hyperparameters optimised by grid search seems to be the best model\n",
    "    - it shows some slight overfit which is acceptable\n",
    "    - Total <b>AUC on test data is almost 70%</b>\n",
    "    - This score shows that claims occurance is actually quite random (also proven by the results of the classification report)\n",
    "    - Given that the main target of the exercise was to calculate the claim frequency, e.g. for pricing, it is a reasonable basis\n",
    "    - applying the final model to the total data set AUC was 80%<br><br>\n",
    "    - most important features of the model are Exposure, followed by BonusMalus, VehAge and DriverAge"
   ]
  },
  {
   "cell_type": "markdown",
   "id": "9241383c-c2af-483f-9310-78c5b42b26aa",
   "metadata": {},
   "source": [
    "### Outlook and possible next steps"
   ]
  },
  {
   "cell_type": "markdown",
   "id": "66d34634-cf73-4dd0-b0db-edbd8ba7e30e",
   "metadata": {
    "tags": []
   },
   "source": [
    "- Potential next steps:\n",
    "    - try the MinMax scaled data and see the differences\n",
    "    - go deeper into optimisation of hyperparameters for the selected model and see whether further improvements are possible\n",
    "    - try models from other packages, e.g. LGBM or deep learning and see whehter the AUC can be even further improved\n",
    "    - compare with a classical GLM that can directly model the claim frequency\n",
    "    - as the event of a claim is not super frequent, some undersampling techniques can be applied also to get more weight on the positive labels\n",
    "    - use better hardware to optimise run-time and test more parameters"
   ]
  },
  {
   "cell_type": "markdown",
   "id": "b6a1c020-86c9-4771-8814-332337f72e37",
   "metadata": {
    "tags": []
   },
   "source": [
    "### Appendix: main libraries used"
   ]
  },
  {
   "cell_type": "markdown",
   "id": "e4e910c1-f1bd-4bc4-bb32-b6fa184491a4",
   "metadata": {},
   "source": [
    "pandas==2.0.0<br>\n",
    "numpy==1.24.2<br>\n",
    "matplotlib==3.7.1<br>\n",
    "seaborn==0.12.2<br>\n",
    "scikit-learn==1.2.2<br>"
   ]
  },
  {
   "cell_type": "code",
   "execution_count": null,
   "id": "7dac31d5-b78b-4144-94c4-25eac8f87405",
   "metadata": {},
   "outputs": [],
   "source": []
  }
 ],
 "metadata": {
  "kernelspec": {
   "display_name": "Python 3 (ipykernel)",
   "language": "python",
   "name": "python3"
  },
  "language_info": {
   "codemirror_mode": {
    "name": "ipython",
    "version": 3
   },
   "file_extension": ".py",
   "mimetype": "text/x-python",
   "name": "python",
   "nbconvert_exporter": "python",
   "pygments_lexer": "ipython3",
   "version": "3.10.9"
  }
 },
 "nbformat": 4,
 "nbformat_minor": 5
}
